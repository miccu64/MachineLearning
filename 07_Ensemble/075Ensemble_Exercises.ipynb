{
 "cells": [
  {
   "cell_type": "markdown",
   "metadata": {},
   "source": [
    "# Ensemble methods. Exercises\n",
    "\n",
    "\n",
    "In this section we have only two exercise:\n",
    "\n",
    "1. Find the best three classifier in the stacking method using the classifiers from scikit-learn package.\n",
    "\n",
    "2. Build arcing arc-x4 method. "
   ]
  },
  {
   "cell_type": "code",
   "execution_count": 81,
   "metadata": {},
   "outputs": [],
   "source": [
    "%store -r data_set\n",
    "%store -r labels\n",
    "%store -r test_data_set\n",
    "%store -r test_labels\n",
    "%store -r unique_labels"
   ]
  },
  {
   "cell_type": "markdown",
   "metadata": {},
   "source": [
    "## Exercise 1: Find the best three classifier in the stacking method\n",
    "\n",
    "Please use the following classifiers:\n",
    "\n",
    "* Linear regression,\n",
    "* Nearest Neighbors,\n",
    "* Linear SVM,\n",
    "* Decision Tree,\n",
    "* Naive Bayes,\n",
    "* QDA."
   ]
  },
  {
   "cell_type": "code",
   "execution_count": 82,
   "metadata": {},
   "outputs": [],
   "source": [
    "import numpy as np\n",
    "from sklearn.metrics import accuracy_score\n",
    "\n",
    "from sklearn.linear_model import LinearRegression\n",
    "from sklearn.neighbors import KNeighborsClassifier\n",
    "from sklearn.svm import SVC\n",
    "from sklearn.tree import DecisionTreeClassifier\n",
    "from sklearn.naive_bayes import GaussianNB\n",
    "from sklearn.discriminant_analysis import QuadraticDiscriminantAnalysis\n",
    "\n",
    "from itertools import permutations"
   ]
  },
  {
   "cell_type": "code",
   "execution_count": 83,
   "metadata": {},
   "outputs": [],
   "source": [
    "def build_classifiers():\n",
    "    classifiers = [LinearRegression, KNeighborsClassifier, SVC, DecisionTreeClassifier, GaussianNB, QuadraticDiscriminantAnalysis]\n",
    "    built_classifiers = [classifier().fit(data_set, labels) for classifier in classifiers]\n",
    "        \n",
    "    return built_classifiers"
   ]
  },
  {
   "cell_type": "code",
   "execution_count": 84,
   "metadata": {},
   "outputs": [],
   "source": [
    "def build_stacked_classifier(classifiers):\n",
    "    output = []\n",
    "    for classifier in classifiers:\n",
    "        output.append(classifier.predict(data_set))\n",
    "    output = np.array(output).reshape((130,3))\n",
    "    \n",
    "    # stacked classifier part:\n",
    "    stacked_classifier = DecisionTreeClassifier()\n",
    "    stacked_classifier.fit(output.reshape((130,3)), labels.reshape((130,)))\n",
    "    test_set = []\n",
    "    for classifier in classifiers:\n",
    "        test_set.append(classifier.predict(test_data_set))\n",
    "    test_set = np.array(test_set).reshape((len(test_set[0]),3))\n",
    "    predicted = stacked_classifier.predict(test_set)\n",
    "    return predicted"
   ]
  },
  {
   "cell_type": "code",
   "execution_count": 85,
   "metadata": {},
   "outputs": [
    {
     "name": "stdout",
     "output_type": "stream",
     "text": [
      "\t\t\tAccuracy\t\t\tClassifier 1\t\t\tClassifier 2\t\t\tClassifier 3\n",
      "0\t\t\t0.9\t\t\tDecisionTreeClassifier\t\t\tKNeighborsClassifier\t\t\tQuadraticDiscriminantAnalysis\n",
      "1\t\t\t0.9\t\t\tGaussianNB\t\t\tKNeighborsClassifier\t\t\tQuadraticDiscriminantAnalysis\n",
      "2\t\t\t0.85\t\t\tKNeighborsClassifier\t\t\tSVC\t\t\tGaussianNB\n",
      "3\t\t\t0.85\t\t\tKNeighborsClassifier\t\t\tSVC\t\t\tQuadraticDiscriminantAnalysis\n",
      "4\t\t\t0.85\t\t\tKNeighborsClassifier\t\t\tGaussianNB\t\t\tQuadraticDiscriminantAnalysis\n",
      "5\t\t\t0.85\t\t\tKNeighborsClassifier\t\t\tQuadraticDiscriminantAnalysis\t\t\tDecisionTreeClassifier\n",
      "6\t\t\t0.85\t\t\tSVC\t\t\tKNeighborsClassifier\t\t\tGaussianNB\n",
      "7\t\t\t0.85\t\t\tSVC\t\t\tKNeighborsClassifier\t\t\tQuadraticDiscriminantAnalysis\n",
      "8\t\t\t0.85\t\t\tGaussianNB\t\t\tKNeighborsClassifier\t\t\tDecisionTreeClassifier\n",
      "9\t\t\t0.85\t\t\tGaussianNB\t\t\tSVC\t\t\tKNeighborsClassifier\n",
      "10\t\t\t0.85\t\t\tQuadraticDiscriminantAnalysis\t\t\tKNeighborsClassifier\t\t\tDecisionTreeClassifier\n",
      "11\t\t\t0.8\t\t\tKNeighborsClassifier\t\t\tSVC\t\t\tDecisionTreeClassifier\n",
      "12\t\t\t0.8\t\t\tKNeighborsClassifier\t\t\tDecisionTreeClassifier\t\t\tQuadraticDiscriminantAnalysis\n",
      "13\t\t\t0.8\t\t\tKNeighborsClassifier\t\t\tGaussianNB\t\t\tDecisionTreeClassifier\n",
      "14\t\t\t0.8\t\t\tSVC\t\t\tKNeighborsClassifier\t\t\tDecisionTreeClassifier\n",
      "15\t\t\t0.8\t\t\tSVC\t\t\tGaussianNB\t\t\tKNeighborsClassifier\n",
      "16\t\t\t0.8\t\t\tDecisionTreeClassifier\t\t\tGaussianNB\t\t\tQuadraticDiscriminantAnalysis\n",
      "17\t\t\t0.8\t\t\tGaussianNB\t\t\tSVC\t\t\tQuadraticDiscriminantAnalysis\n",
      "18\t\t\t0.8\t\t\tGaussianNB\t\t\tQuadraticDiscriminantAnalysis\t\t\tDecisionTreeClassifier\n",
      "19\t\t\t0.75\t\t\tLinearRegression\t\t\tKNeighborsClassifier\t\t\tQuadraticDiscriminantAnalysis\n"
     ]
    }
   ],
   "source": [
    "def get_type_name(obj):\n",
    "    return type(obj).__name__\n",
    "\n",
    "classifiers = build_classifiers()\n",
    "results = []\n",
    "\n",
    "for permutation in permutations(classifiers, r=3):\n",
    "    predicted = build_stacked_classifier(permutation)\n",
    "    accuracy = accuracy_score(test_labels, predicted)\n",
    "    results.append((accuracy, get_type_name(permutation[0]), get_type_name(permutation[1]), get_type_name(permutation[2])))\n",
    "\n",
    "results = sorted(results, key=lambda x: x[0], reverse=True)\n",
    "\n",
    "print('\\t\\t\\tAccuracy\\t\\t\\tClassifier 1\\t\\t\\tClassifier 2\\t\\t\\tClassifier 3')\n",
    "for i, clas1 in enumerate(results[:20]):\n",
    "    line = str(i)\n",
    "    for i in range(4):\n",
    "        line += '\\t\\t\\t' + str(clas1[i])\n",
    "    print(line)"
   ]
  },
  {
   "cell_type": "markdown",
   "metadata": {},
   "source": [
    "## Exercise 2: \n",
    "\n",
    "Use the boosting method and change the code to fullfilt the following requirements:\n",
    "\n",
    "* the weights should be calculated as:\n",
    "$w_{n}^{(t+1)}=\\frac{1+ I(y_{n}\\neq h_{t}(x_{n})}{\\sum_{i=1}^{N}1+I(y_{n}\\neq h_{t}(x_{n})}$,\n",
    "* the prediction is done with a voting method."
   ]
  },
  {
   "cell_type": "code",
   "execution_count": 86,
   "metadata": {},
   "outputs": [],
   "source": [
    "import numpy as np\n",
    "from sklearn.tree import DecisionTreeClassifier\n",
    "\n",
    "# prepare data set\n",
    "\n",
    "def generate_data(sample_number, feature_number, label_number):\n",
    "    data_set = np.random.random_sample((sample_number, feature_number))\n",
    "    labels = np.random.choice(label_number, sample_number)\n",
    "    return data_set, labels\n",
    "\n",
    "labels = 2\n",
    "dimension = 2\n",
    "test_set_size = 1000\n",
    "train_set_size = 5000\n",
    "train_set, train_labels = generate_data(train_set_size, dimension, labels)\n",
    "test_set, test_labels = generate_data(test_set_size, dimension, labels)\n",
    "\n",
    "# init weights\n",
    "number_of_iterations = 10\n",
    "weights = np.ones((test_set_size,)) / test_set_size\n",
    "\n",
    "\n",
    "def train_model(classifier, weights):\n",
    "    return classifier.fit(X=test_set, y=test_labels, sample_weight=weights)\n",
    "\n",
    "def calculate_error(model):\n",
    "    predicted = model.predict(test_set)\n",
    "    I=calculate_accuracy_vector(predicted, test_labels)\n",
    "    Z=np.sum(I)\n",
    "    return (1+Z)/1.0"
   ]
  },
  {
   "cell_type": "markdown",
   "metadata": {},
   "source": [
    "Fill the two functions below:"
   ]
  },
  {
   "cell_type": "code",
   "execution_count": 87,
   "metadata": {},
   "outputs": [],
   "source": [
    "def set_new_weights(model):\n",
    "    # fill the code here (two lines)\n",
    "    pass "
   ]
  },
  {
   "cell_type": "markdown",
   "metadata": {},
   "source": [
    "Train the classifier with the code below:"
   ]
  },
  {
   "cell_type": "code",
   "execution_count": 88,
   "metadata": {},
   "outputs": [
    {
     "name": "stdout",
     "output_type": "stream",
     "text": [
      "None\n"
     ]
    }
   ],
   "source": [
    "classifier = DecisionTreeClassifier(max_depth=1, random_state=1)\n",
    "classifier.fit(X=train_set, y=train_labels)\n",
    "alphas = []\n",
    "classifiers = []\n",
    "for iteration in range(number_of_iterations):\n",
    "    model = train_model(classifier, weights)\n",
    "    weights = set_new_weights(model)\n",
    "    classifiers.append(model)\n",
    "\n",
    "print(weights)\n",
    "\n",
    "\n",
    "validate_x, validate_label = generate_data(1, dimension, labels)"
   ]
  },
  {
   "cell_type": "markdown",
   "metadata": {},
   "source": [
    "Set the validation data set:"
   ]
  },
  {
   "cell_type": "code",
   "execution_count": 89,
   "metadata": {},
   "outputs": [],
   "source": [
    "validate_x, validate_label = generate_data(1, dimension, labels)"
   ]
  },
  {
   "cell_type": "markdown",
   "metadata": {},
   "source": [
    "Fill the prediction code:"
   ]
  },
  {
   "cell_type": "code",
   "execution_count": 90,
   "metadata": {},
   "outputs": [],
   "source": [
    "def get_prediction(x):\n",
    "    # fill the code here (5-6 lines)\n",
    "    pass"
   ]
  },
  {
   "cell_type": "markdown",
   "metadata": {},
   "source": [
    "Test it:"
   ]
  },
  {
   "cell_type": "code",
   "execution_count": 91,
   "metadata": {},
   "outputs": [
    {
     "ename": "TypeError",
     "evalue": "'NoneType' object is not subscriptable",
     "output_type": "error",
     "traceback": [
      "\u001b[1;31m---------------------------------------------------------------------------\u001b[0m",
      "\u001b[1;31mTypeError\u001b[0m                                 Traceback (most recent call last)",
      "Cell \u001b[1;32mIn[91], line 1\u001b[0m\n\u001b[1;32m----> 1\u001b[0m prediction \u001b[38;5;241m=\u001b[39m \u001b[43mget_prediction\u001b[49m\u001b[43m(\u001b[49m\u001b[43mvalidate_x\u001b[49m\u001b[43m)\u001b[49m\u001b[43m[\u001b[49m\u001b[38;5;241;43m0\u001b[39;49m\u001b[43m]\u001b[49m\n\u001b[0;32m      3\u001b[0m \u001b[38;5;28mprint\u001b[39m(prediction)\n",
      "\u001b[1;31mTypeError\u001b[0m: 'NoneType' object is not subscriptable"
     ]
    }
   ],
   "source": [
    "prediction = get_prediction(validate_x)[0]\n",
    "\n",
    "print(prediction)"
   ]
  }
 ],
 "metadata": {
  "kernelspec": {
   "display_name": "Python 3",
   "language": "python",
   "name": "python3"
  },
  "language_info": {
   "codemirror_mode": {
    "name": "ipython",
    "version": 3
   },
   "file_extension": ".py",
   "mimetype": "text/x-python",
   "name": "python",
   "nbconvert_exporter": "python",
   "pygments_lexer": "ipython3",
   "version": "3.11.6"
  }
 },
 "nbformat": 4,
 "nbformat_minor": 4
}
